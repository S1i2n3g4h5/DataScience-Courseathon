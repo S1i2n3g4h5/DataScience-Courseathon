{
  "nbformat": 4,
  "nbformat_minor": 0,
  "metadata": {
    "colab": {
      "name": "Untitled4.ipynb",
      "private_outputs": true,
      "provenance": [],
      "collapsed_sections": [],
      "authorship_tag": "ABX9TyM8dr3vdHAM3fssAgCtNUvL",
      "include_colab_link": true
    },
    "kernelspec": {
      "name": "python3",
      "display_name": "Python 3"
    },
    "language_info": {
      "name": "python"
    }
  },
  "cells": [
    {
      "cell_type": "markdown",
      "metadata": {
        "id": "view-in-github",
        "colab_type": "text"
      },
      "source": [
        "<a href=\"https://colab.research.google.com/github/S1i2n3g4h5/DataScience-Courseathon/blob/main/Assignment_4.ipynb\" target=\"_parent\"><img src=\"https://colab.research.google.com/assets/colab-badge.svg\" alt=\"Open In Colab\"/></a>"
      ]
    },
    {
      "cell_type": "markdown",
      "source": [
        "## **Question 1.**"
      ],
      "metadata": {
        "id": "fkhNc2odqU4q"
      }
    },
    {
      "cell_type": "markdown",
      "source": [
        "`[]` Here we are creating empty list."
      ],
      "metadata": {
        "id": "93GyyxuEqU4r"
      }
    },
    {
      "cell_type": "markdown",
      "source": [
        "## **Question 2.**"
      ],
      "metadata": {
        "id": "wUNY4SJWqU9I"
      }
    },
    {
      "cell_type": "markdown",
      "source": [
        "By using `spam.insert(2, \"Hello\")` we can easily insert `'Hello'` at 3rd position"
      ],
      "metadata": {
        "id": "Ipe5BoywqU9J"
      }
    },
    {
      "cell_type": "code",
      "source": [
        ""
      ],
      "metadata": {
        "id": "smc8f2B-uzGL"
      },
      "execution_count": null,
      "outputs": []
    },
    {
      "cell_type": "code",
      "source": [
        "spam = ['a','b','c','d']\n",
        "print(spam)"
      ],
      "metadata": {
        "id": "iTJ0UW3gtS9J"
      },
      "execution_count": null,
      "outputs": []
    },
    {
      "cell_type": "code",
      "source": [
        ""
      ],
      "metadata": {
        "id": "t2lQ7sA2uzfJ"
      },
      "execution_count": null,
      "outputs": []
    },
    {
      "cell_type": "markdown",
      "source": [
        "## **Question 3.**"
      ],
      "metadata": {
        "id": "R13ChY9dqVBf"
      }
    },
    {
      "cell_type": "code",
      "source": [
        "spam[int(int('3' * 2) / 11)]"
      ],
      "metadata": {
        "id": "WVhImOwTuRLK"
      },
      "execution_count": null,
      "outputs": []
    },
    {
      "cell_type": "markdown",
      "source": [
        "## **Question 4.**"
      ],
      "metadata": {
        "id": "qg33oNcOqVGA"
      }
    },
    {
      "cell_type": "code",
      "source": [
        "spam[-1]"
      ],
      "metadata": {
        "id": "9JrA7LwPuauU"
      },
      "execution_count": null,
      "outputs": []
    },
    {
      "cell_type": "markdown",
      "source": [
        "## **Question 5.**"
      ],
      "metadata": {
        "id": "NvuggoqgqVKf"
      }
    },
    {
      "cell_type": "code",
      "source": [
        "spam[:2]"
      ],
      "metadata": {
        "id": "4UZOEegxuh5b"
      },
      "execution_count": null,
      "outputs": []
    },
    {
      "cell_type": "code",
      "source": [
        ""
      ],
      "metadata": {
        "id": "IKuJbZRsvI-B"
      },
      "execution_count": null,
      "outputs": []
    },
    {
      "cell_type": "code",
      "source": [
        "bacon = [3.14, 'cat', 11, 'cat', True]"
      ],
      "metadata": {
        "id": "-12bMrrAvJay"
      },
      "execution_count": null,
      "outputs": []
    },
    {
      "cell_type": "code",
      "source": [
        ""
      ],
      "metadata": {
        "id": "Dhoz76oEvJzd"
      },
      "execution_count": null,
      "outputs": []
    },
    {
      "cell_type": "markdown",
      "source": [
        "## **Question 6.**"
      ],
      "metadata": {
        "id": "zQWonbXIqVPI"
      }
    },
    {
      "cell_type": "code",
      "source": [
        "bacon.index('cat')"
      ],
      "metadata": {
        "id": "pcB8ZOVgvSUi"
      },
      "execution_count": null,
      "outputs": []
    },
    {
      "cell_type": "markdown",
      "source": [
        "## **Question 7.**"
      ],
      "metadata": {
        "id": "37oJ8RKiwKfj"
      }
    },
    {
      "cell_type": "code",
      "source": [
        "bacon.append(99)\n",
        "bacon\n",
        "\n",
        "# Above code appends 99 at last"
      ],
      "metadata": {
        "id": "y4vDneZTwK3d"
      },
      "execution_count": null,
      "outputs": []
    },
    {
      "cell_type": "markdown",
      "source": [
        "## **Question 8.**"
      ],
      "metadata": {
        "id": "ceystc31qVTX"
      }
    },
    {
      "cell_type": "code",
      "source": [
        "bacon.remove(\"cat\")\n",
        "bacon\n",
        "\n",
        "# Above code removes 1st occurance of `cat` "
      ],
      "metadata": {
        "id": "5jw84Dxbveuy"
      },
      "execution_count": null,
      "outputs": []
    },
    {
      "cell_type": "markdown",
      "source": [
        "## **Question 9.**"
      ],
      "metadata": {
        "id": "un3m2DaaqVYZ"
      }
    },
    {
      "cell_type": "markdown",
      "source": [
        "* `+` -> List concatenation operator, Example: `[1,2] + ['a']` results in `[1,2,'a']`\n",
        "* `*` -> List replication operator, Example: `[1,2] * 2` results in `[1,2,1,2]`"
      ],
      "metadata": {
        "id": "O21fK91dwWs7"
      }
    },
    {
      "cell_type": "markdown",
      "source": [
        "## **Question 10.**"
      ],
      "metadata": {
        "id": "N-OmsktOqVcg"
      }
    },
    {
      "cell_type": "markdown",
      "source": [
        "* `append` - Inserts given value at last index, Example: `lst.append('a')`\n",
        "* `insert` - Inserts given value at specified index, Example: in last we want to insert `b` at `1` index -> `lst.insert(1,'b')`"
      ],
      "metadata": {
        "id": "ILpMfRNnqVcg"
      }
    },
    {
      "cell_type": "markdown",
      "source": [
        "## **Question 11.**"
      ],
      "metadata": {
        "id": "jvau-xcKqVg5"
      }
    },
    {
      "cell_type": "markdown",
      "source": [
        "* `pop` -> Give index of element to remove from list\n",
        "* `remove` -> Give element to remove from list"
      ],
      "metadata": {
        "id": "YKxb-53PqVg5"
      }
    },
    {
      "cell_type": "markdown",
      "source": [
        "## **Question 12.**"
      ],
      "metadata": {
        "id": "O5HT5vvSqVlI"
      }
    },
    {
      "cell_type": "markdown",
      "source": [
        "The similarity between `list` and `String` is that both are sequences. The differences between them are that firstly, lists are mutable but Strings are immutable. Secondly, elements of a list can be of different types whereas a String only contains characters that are all of String type."
      ],
      "metadata": {
        "id": "drGgrdXLqVlI"
      }
    },
    {
      "cell_type": "markdown",
      "source": [
        "## **Question 13.**"
      ],
      "metadata": {
        "id": "w-zjH9DsqVph"
      }
    },
    {
      "cell_type": "markdown",
      "source": [
        "Lists are mutable whereas tuple are immutable"
      ],
      "metadata": {
        "id": "tC88UgbNqVpi"
      }
    },
    {
      "cell_type": "markdown",
      "source": [
        "## **Question 14.**"
      ],
      "metadata": {
        "id": "vo1hrizwqVuC"
      }
    },
    {
      "cell_type": "code",
      "source": [
        "tpl = (1,)\n",
        "tpl"
      ],
      "metadata": {
        "id": "3GtNEcsH1KNr"
      },
      "execution_count": null,
      "outputs": []
    },
    {
      "cell_type": "markdown",
      "source": [
        "## **Question 15.**"
      ],
      "metadata": {
        "id": "ikOP_-0uqVyf"
      }
    },
    {
      "cell_type": "markdown",
      "source": [
        "Suppose we have list named `spam`\n",
        "\n",
        "We can get list value's tuple form by using `tuple(spam)`\n",
        "<br/><br/><br/>\n",
        "Suppose we have tuple named `spam`\n",
        "\n",
        "We can get tuple value's list form by using `list(spam)`"
      ],
      "metadata": {
        "id": "vxB1l-bNqVyg"
      }
    },
    {
      "cell_type": "markdown",
      "source": [
        "## **Question 16.**"
      ],
      "metadata": {
        "id": "WHz_nZS8qV6g"
      }
    },
    {
      "cell_type": "markdown",
      "source": [
        "They contain shallow copy of that particular list values"
      ],
      "metadata": {
        "id": "HUKQ_lWpqV6h"
      }
    },
    {
      "cell_type": "markdown",
      "source": [
        "## **Question 17.**"
      ],
      "metadata": {
        "id": "gmp-5tPXqV_3"
      }
    },
    {
      "cell_type": "markdown",
      "source": [
        "A deep copy means that all of the values of the new variable are copied and disconnected from the original variable. A shallow copy means that certain (sub-)values are still connected to the original variable"
      ],
      "metadata": {
        "id": "cMNCK9euqV_4"
      }
    }
  ]
}