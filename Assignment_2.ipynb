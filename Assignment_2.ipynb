{
  "nbformat": 4,
  "nbformat_minor": 0,
  "metadata": {
    "colab": {
      "name": "Assignment_2.ipynb",
      "private_outputs": true,
      "provenance": [],
      "collapsed_sections": [],
      "authorship_tag": "ABX9TyPibFtzTY8zrSpbmwHwa1Dg",
      "include_colab_link": true
    },
    "kernelspec": {
      "name": "python3",
      "display_name": "Python 3"
    },
    "language_info": {
      "name": "python"
    }
  },
  "cells": [
    {
      "cell_type": "markdown",
      "metadata": {
        "id": "view-in-github",
        "colab_type": "text"
      },
      "source": [
        "<a href=\"https://colab.research.google.com/github/S1i2n3g4h5/DataScience-Courseathon/blob/main/Assignment_2.ipynb\" target=\"_parent\"><img src=\"https://colab.research.google.com/assets/colab-badge.svg\" alt=\"Open In Colab\"/></a>"
      ]
    },
    {
      "cell_type": "markdown",
      "source": [
        "## **Question 1.**"
      ],
      "metadata": {
        "id": "uT_OL3HDbSrt"
      }
    },
    {
      "cell_type": "markdown",
      "source": [
        "2 different values of Boolean datatypes are `True` and `False`\n",
        "\n",
        "For example :- \n",
        "\n",
        "`a = True`\n",
        "\n",
        "`b = False`"
      ],
      "metadata": {
        "id": "O-xQxZGUbSru"
      }
    },
    {
      "cell_type": "markdown",
      "source": [
        "## **Question 2.**"
      ],
      "metadata": {
        "id": "dePhs98Te94b"
      }
    },
    {
      "cell_type": "markdown",
      "source": [
        "3 different Boolean operators are :- \n",
        "\n",
        "`and` `or` `not`"
      ],
      "metadata": {
        "id": "Ynzqr2j4e94c"
      }
    },
    {
      "cell_type": "markdown",
      "source": [
        "## **Question 3.**"
      ],
      "metadata": {
        "id": "4aC8HBi2e-By"
      }
    },
    {
      "cell_type": "markdown",
      "source": [
        "![image.png](data:image/png;base64,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) &nbsp;&nbsp;&nbsp;&nbsp;\n",
        "![image.png](data:image/png;base64,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) &nbsp;&nbsp;&nbsp;&nbsp;\n",
        "![image.png](data:image/png;base64,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)"
      ],
      "metadata": {
        "id": "cqvKLXvKe-Bz"
      }
    },
    {
      "cell_type": "markdown",
      "source": [
        "## **Question 4.**"
      ],
      "metadata": {
        "id": "4QeVTnoWe-Ey"
      }
    },
    {
      "cell_type": "markdown",
      "source": [
        "- `(5 > 4) and  (3 == 5)` -> `False`\n",
        "- `not (5 > 3)` -> `False`\n",
        "- `(5 > 4) or (3 ==5)` -> `True`\n",
        "- `not((5 > 4) or (3 == 5))` -> `False`\n",
        "- `(True and True) and (True == False)` -> `False`\n",
        "- `(not False) or (not True)` -> `True`\n"
      ],
      "metadata": {
        "id": "ZsHI1HlQe-Ez"
      }
    },
    {
      "cell_type": "markdown",
      "source": [
        "## **Question 5.**"
      ],
      "metadata": {
        "id": "SrJogBJce-Hi"
      }
    },
    {
      "cell_type": "markdown",
      "source": [
        "* `<=` -> Less than or equal to\n",
        "* `>=` -> Greater than or equal to\n",
        "* `==` -> Equal to\n",
        "* `<` -> Less than\n",
        "* `>` -> Greater than\n",
        "* `!=` -> Not equal to"
      ],
      "metadata": {
        "id": "UVsfyKMee-Hj"
      }
    },
    {
      "cell_type": "markdown",
      "source": [
        "## **Question 6.**"
      ],
      "metadata": {
        "id": "G3IVh6Gfe-Nc"
      }
    },
    {
      "cell_type": "markdown",
      "source": [
        "* `=` operator is used for assigning the value to a variable. Example:-\n",
        "`a = 99`\n",
        "* `==` operator checks whether the two given operands are equal or not. Example:- `22 == 22.0`"
      ],
      "metadata": {
        "id": "TFraEanue-Kr"
      }
    },
    {
      "cell_type": "markdown",
      "source": [
        "## **Question 7.**"
      ],
      "metadata": {
        "id": "a-WVBgrKe-Kr"
      }
    },
    {
      "cell_type": "code",
      "source": [
        "spam = 0\n",
        "if spam == 10:\n",
        "    print(\"eggs\")\n",
        "\n",
        "if spam > 5:\n",
        "    print(\"bacon\")\n",
        "else:\n",
        "    print(\"ham\")\n",
        "\n",
        "print(\"spam\")\n",
        "print(\"spam\")"
      ],
      "metadata": {
        "id": "PF7ygCRuxYHW"
      },
      "execution_count": null,
      "outputs": []
    },
    {
      "cell_type": "markdown",
      "source": [
        "## **Question 8.**"
      ],
      "metadata": {
        "id": "9H8i10mFe-Qb"
      }
    },
    {
      "cell_type": "code",
      "source": [
        "spam = 0\n",
        "if spam == 1:\n",
        "    print(\"Hello\")\n",
        "elif spam == 2:\n",
        "    print(\"Howdy\")\n",
        "else:\n",
        "    print(\"Greetings!\")"
      ],
      "metadata": {
        "id": "-eyMzUHAxx7o"
      },
      "execution_count": null,
      "outputs": []
    },
    {
      "cell_type": "markdown",
      "source": [
        "## **Question 9.**"
      ],
      "metadata": {
        "id": "xip6kjXhe-Tc"
      }
    },
    {
      "cell_type": "markdown",
      "source": [
        "`Ctrl + C`"
      ],
      "metadata": {
        "id": "F-BrV6HPyfAq"
      }
    },
    {
      "cell_type": "markdown",
      "source": [
        "## **Question 10.**"
      ],
      "metadata": {
        "id": "3lXxqZvye-WL"
      }
    },
    {
      "cell_type": "markdown",
      "source": [
        "* `break` -> Stops the current execution of loop and exits from the loop\n",
        "* `continue` -> Skips current execution and start with next execution in loop"
      ],
      "metadata": {
        "id": "E8yYGkEOe-WM"
      }
    },
    {
      "cell_type": "markdown",
      "source": [
        "## **Question 11.**"
      ],
      "metadata": {
        "id": "g_GDNf1IfOXi"
      }
    },
    {
      "cell_type": "markdown",
      "source": [
        "All the given 3 `range` code give same output. The only difference is that we are passing the same default parameters to the all 3 `range` functions differently.\n",
        "\n",
        "In all 3 codes the start=0, end=10-1, step=1. Those 3 codes are 3 different ways to do the same thing and give same output. \n"
      ],
      "metadata": {
        "id": "nNP3sKzdfOXj"
      }
    },
    {
      "cell_type": "markdown",
      "source": [
        "## **Question 12.**"
      ],
      "metadata": {
        "id": "An_A0818fOb7"
      }
    },
    {
      "cell_type": "code",
      "source": [
        "for number in range(1,11):\n",
        "    print(number, end = \"  \")"
      ],
      "metadata": {
        "id": "H9oVPv5rGbcz"
      },
      "execution_count": null,
      "outputs": []
    },
    {
      "cell_type": "code",
      "source": [
        "number = 1\n",
        "while number <= 10:\n",
        "    print(number, end = \"  \")\n",
        "    number += 1"
      ],
      "metadata": {
        "id": "wLSiuYDlGchT"
      },
      "execution_count": null,
      "outputs": []
    },
    {
      "cell_type": "markdown",
      "source": [
        "## **Question 13.**"
      ],
      "metadata": {
        "id": "dnbxU-eCfO9r"
      }
    },
    {
      "cell_type": "markdown",
      "source": [
        "* `from spam import *` -> This will import everything inside `spam` module including `bacon()` function\n",
        "* `from spam import bacon` -> This will import only `bacon()` function from `spam` module"
      ],
      "metadata": {
        "id": "3zs0QvsYfO9s"
      }
    }
  ]
}