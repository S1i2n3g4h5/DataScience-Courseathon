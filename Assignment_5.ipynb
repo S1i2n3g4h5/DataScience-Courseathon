{
  "nbformat": 4,
  "nbformat_minor": 0,
  "metadata": {
    "colab": {
      "name": "Untitled5.ipynb",
      "private_outputs": true,
      "provenance": [],
      "authorship_tag": "ABX9TyMLDAmF2vYwYpI7VSbip1vI",
      "include_colab_link": true
    },
    "kernelspec": {
      "name": "python3",
      "display_name": "Python 3"
    },
    "language_info": {
      "name": "python"
    }
  },
  "cells": [
    {
      "cell_type": "markdown",
      "metadata": {
        "id": "view-in-github",
        "colab_type": "text"
      },
      "source": [
        "<a href=\"https://colab.research.google.com/github/S1i2n3g4h5/DataScience-Courseathon/blob/main/Assignment_5.ipynb\" target=\"_parent\"><img src=\"https://colab.research.google.com/assets/colab-badge.svg\" alt=\"Open In Colab\"/></a>"
      ]
    },
    {
      "cell_type": "markdown",
      "source": [
        "## **Question 1.**"
      ],
      "metadata": {
        "id": "dSE8vi054OdB"
      }
    },
    {
      "cell_type": "code",
      "source": [
        "empty_dict = {}\n",
        "empty_dict"
      ],
      "metadata": {
        "id": "h2wRRvyJ4Og1"
      },
      "execution_count": null,
      "outputs": []
    },
    {
      "cell_type": "markdown",
      "source": [
        "## **Question 2.**"
      ],
      "metadata": {
        "id": "vCh6N03w4T2U"
      }
    },
    {
      "cell_type": "code",
      "source": [
        "my_dict = {\"foo\":{42:\"~Something here~\"}}\n",
        "my_dict['foo'][42]"
      ],
      "metadata": {
        "id": "mWI8yFQF6Ni7"
      },
      "execution_count": null,
      "outputs": []
    },
    {
      "cell_type": "markdown",
      "source": [
        "## **Question 3.**"
      ],
      "metadata": {
        "id": "G-0gr67I4T9D"
      }
    },
    {
      "cell_type": "markdown",
      "source": [
        "A list is an ordered sequence of values/variables, whereas dictionaries are unordered sets. However, the main difference is that items in dictionaries are accessed via keys and not via their position"
      ],
      "metadata": {
        "id": "SyHAbBQq6vRi"
      }
    },
    {
      "cell_type": "markdown",
      "source": [
        "## **Question 4.**"
      ],
      "metadata": {
        "id": "n_o4AVSc4UAV"
      }
    },
    {
      "cell_type": "markdown",
      "source": [
        "We will get `KeyError` which means the given `key` doesn't exists in the dictionary"
      ],
      "metadata": {
        "id": "xfCDKWDv651j"
      }
    },
    {
      "cell_type": "markdown",
      "source": [
        "## **Question 5.**"
      ],
      "metadata": {
        "id": "sJB8LPZJ4UDO"
      }
    },
    {
      "cell_type": "markdown",
      "source": [
        "* `'cat' in spam` - checks `cat` in spam dictionary key\n",
        "* `'cat' in spam.keys()` - checks `cat` in spam dictionary keys list\n",
        "\n",
        "Both expressions are same because in both we are matching `cat` in `spam` dictionary keys"
      ],
      "metadata": {
        "id": "Bi3v_xKs8QSK"
      }
    },
    {
      "cell_type": "markdown",
      "source": [
        "## **Question 6.**"
      ],
      "metadata": {
        "id": "JwZ2zXhl4UGD"
      }
    },
    {
      "cell_type": "markdown",
      "source": [
        "* `'cat' in spam` - checks `cat` in spam dictionary key\n",
        "* `'cat' in spam.values()` - checks `cat` in spam dictionary values list\n",
        "\n",
        "Both expressions are different because in first we are matching `cat` in `spam` dict keys but in 2nd we are matching `cat` inside dictionary values"
      ],
      "metadata": {
        "id": "CKq8FeXt9Llt"
      }
    },
    {
      "cell_type": "markdown",
      "source": [
        "## **Question 7.**"
      ],
      "metadata": {
        "id": "ycGxthpR4UU8"
      }
    },
    {
      "cell_type": "code",
      "source": [
        "spam = {\"cat\":1, \"sq\":2, \"pi\":3}\n",
        "\n",
        "# Shortcut for checking + creating key if not exists\n",
        "spam['cat'] = 'black' if 'cat' not in spam else spam['cat']\n",
        "\n",
        "spam"
      ],
      "metadata": {
        "id": "iw6PDON34lAv"
      },
      "execution_count": null,
      "outputs": []
    },
    {
      "cell_type": "markdown",
      "source": [
        "## **Question 8.**"
      ],
      "metadata": {
        "id": "Uzq538Cj4UZ7"
      }
    },
    {
      "cell_type": "code",
      "source": [
        "from pprint import pprint\n",
        "\n",
        "spam = {\"cat\":[1,2,3], \"sq\":{\"signal\":\"BUY\", \"stock\":\"HDFC\", \"price\":998.23}, \"pi\":3}\n",
        "pprint(spam)"
      ],
      "metadata": {
        "id": "VlrdsXUQ5rNm"
      },
      "execution_count": null,
      "outputs": []
    }
  ]
}