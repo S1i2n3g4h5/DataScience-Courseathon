{
  "nbformat": 4,
  "nbformat_minor": 0,
  "metadata": {
    "colab": {
      "name": "Assignment_3.ipynb",
      "private_outputs": true,
      "provenance": [],
      "collapsed_sections": [],
      "authorship_tag": "ABX9TyMFcwW0OiLK+KHoYPQV6sHG",
      "include_colab_link": true
    },
    "kernelspec": {
      "name": "python3",
      "display_name": "Python 3"
    },
    "language_info": {
      "name": "python"
    }
  },
  "cells": [
    {
      "cell_type": "markdown",
      "metadata": {
        "id": "view-in-github",
        "colab_type": "text"
      },
      "source": [
        "<a href=\"https://colab.research.google.com/github/S1i2n3g4h5/DataScience-Courseathon/blob/main/Assignment_3.ipynb\" target=\"_parent\"><img src=\"https://colab.research.google.com/assets/colab-badge.svg\" alt=\"Open In Colab\"/></a>"
      ]
    },
    {
      "cell_type": "markdown",
      "source": [
        "## **Question 1.**"
      ],
      "metadata": {
        "id": "Lg89REJRZMXw"
      }
    },
    {
      "cell_type": "markdown",
      "source": [
        "Functions reduce the need for duplicate code and this makes programs shorter, easier to read, and easier to update."
      ],
      "metadata": {
        "id": "gR1B8o0MZRR2"
      }
    },
    {
      "cell_type": "markdown",
      "source": [
        "## **Question 2.**"
      ],
      "metadata": {
        "id": "8jmLFZ-0ZSyG"
      }
    },
    {
      "cell_type": "markdown",
      "source": [
        "`when it's called`"
      ],
      "metadata": {
        "id": "vrjYD-dhZSyH"
      }
    },
    {
      "cell_type": "markdown",
      "source": [
        "## **Question 3.**"
      ],
      "metadata": {
        "id": "9JejcfAhZS2X"
      }
    },
    {
      "cell_type": "markdown",
      "source": [
        "`def`"
      ],
      "metadata": {
        "id": "gOFchyxAZS2Y"
      }
    },
    {
      "cell_type": "markdown",
      "source": [
        "## **Question 4.**"
      ],
      "metadata": {
        "id": "P9GmKM_kZS5Q"
      }
    },
    {
      "cell_type": "markdown",
      "source": [
        "Difference between the function and function call is that a function is procedure to achieve a particular result while function call is using that function to achieve that particular task."
      ],
      "metadata": {
        "id": "eWLDOAL4ZS5Q"
      }
    },
    {
      "cell_type": "markdown",
      "source": [
        "## **Question 5.**"
      ],
      "metadata": {
        "id": "2e5NVkcdZS7u"
      }
    },
    {
      "cell_type": "markdown",
      "source": [
        "There is only 1 global scope but there can be multiple local scopes by creating functions"
      ],
      "metadata": {
        "id": "1H3YhReDZS7v"
      }
    },
    {
      "cell_type": "markdown",
      "source": [
        "## **Question 6.**"
      ],
      "metadata": {
        "id": "jrUITNr-ZS-f"
      }
    },
    {
      "cell_type": "markdown",
      "source": [
        "Local scope got destroyed after the function call returns."
      ],
      "metadata": {
        "id": "mY15ntPzZS-f"
      }
    },
    {
      "cell_type": "markdown",
      "source": [
        "## **Question 7.**"
      ],
      "metadata": {
        "id": "ALcyKyU7ZTBO"
      }
    },
    {
      "cell_type": "markdown",
      "source": [
        "When we call the function and the function completes its task and gives us some output if required. That output is called return value.Return value depends on the task we have given to function and its output. No, its not possible to have a return value in expression if we use `return` keyword in it. Expression does return value without `return` keyword because expressions are combination of operators, variables and values that does something and return some value."
      ],
      "metadata": {
        "id": "hlkkEtXHZTBO"
      }
    },
    {
      "cell_type": "markdown",
      "source": [
        "## **Question 8.**"
      ],
      "metadata": {
        "id": "dbLFNHJrZTD2"
      }
    },
    {
      "cell_type": "markdown",
      "source": [
        "Its return values is `None`"
      ],
      "metadata": {
        "id": "W32uCf-kZTD3"
      }
    },
    {
      "cell_type": "markdown",
      "source": [
        "## **Question 9.**"
      ],
      "metadata": {
        "id": "HgEynSCtZTG3"
      }
    },
    {
      "cell_type": "markdown",
      "source": [
        "By using `global` keyword. Example :- `global variable_a, variable_b`"
      ],
      "metadata": {
        "id": "39gUTosUZTG3"
      }
    },
    {
      "cell_type": "markdown",
      "source": [
        "## **Question 10.**"
      ],
      "metadata": {
        "id": "Zjvg4XfAZTJ2"
      }
    },
    {
      "cell_type": "markdown",
      "source": [
        "Type of `None` is `NoneType`"
      ],
      "metadata": {
        "id": "Lf0eZon8ZTJ3"
      }
    },
    {
      "cell_type": "markdown",
      "source": [
        "## **Question 11.**"
      ],
      "metadata": {
        "id": "9IOEzJ4KZTM3"
      }
    },
    {
      "cell_type": "markdown",
      "source": [
        "This sentence `import areallyourpetsnamederic` imports file named `areallyourpetsnamederic` as module."
      ],
      "metadata": {
        "id": "3LkdD0nBZTM3"
      }
    },
    {
      "cell_type": "markdown",
      "source": [
        "## **Question 12.**"
      ],
      "metadata": {
        "id": "gatCvS6AZTP_"
      }
    },
    {
      "cell_type": "markdown",
      "source": [
        "Suppose if we imported `bacon()` function from `spam` module like this - \n",
        "* `from spam import *` or `from spam import bacon` then we can use function by using `bacon()` directly\n",
        "* `import spam` then we can use function by using `spam.bacon()`"
      ],
      "metadata": {
        "id": "SZhpM2q6ZTQA"
      }
    },
    {
      "cell_type": "markdown",
      "source": [
        "## **Question 13.**"
      ],
      "metadata": {
        "id": "AZMEWvFwZTS9"
      }
    },
    {
      "cell_type": "markdown",
      "source": [
        "We can put `try` `except` statements known as `Exception Handling` inside code and by this we can stop the code from crashing even if it encounters any error."
      ],
      "metadata": {
        "id": "ZqzaJdlnZTS-"
      }
    },
    {
      "cell_type": "markdown",
      "source": [
        "## **Question 14.**"
      ],
      "metadata": {
        "id": "zjYbYJ4oZTV1"
      }
    },
    {
      "cell_type": "markdown",
      "source": [
        "The try block tests a block of code for errors. The except block lets us handle that error."
      ],
      "metadata": {
        "id": "lwvxX9yrZTV2"
      }
    }
  ]
}