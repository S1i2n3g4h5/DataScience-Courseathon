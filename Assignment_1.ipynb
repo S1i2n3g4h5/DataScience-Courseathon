{
  "nbformat": 4,
  "nbformat_minor": 0,
  "metadata": {
    "colab": {
      "name": "Assignment_1.ipynb",
      "private_outputs": true,
      "provenance": [],
      "collapsed_sections": [],
      "authorship_tag": "ABX9TyP8AbTOtkfiAkdB7teDK4sH",
      "include_colab_link": true
    },
    "kernelspec": {
      "name": "python3",
      "display_name": "Python 3"
    },
    "language_info": {
      "name": "python"
    }
  },
  "cells": [
    {
      "cell_type": "markdown",
      "metadata": {
        "id": "view-in-github",
        "colab_type": "text"
      },
      "source": [
        "<a href=\"https://colab.research.google.com/github/S1i2n3g4h5/DataScience-Courseathon/blob/main/Assignment_1.ipynb\" target=\"_parent\"><img src=\"https://colab.research.google.com/assets/colab-badge.svg\" alt=\"Open In Colab\"/></a>"
      ]
    },
    {
      "cell_type": "markdown",
      "source": [
        "## **Question 1.** <br/>"
      ],
      "metadata": {
        "id": "rysIA75JGYsI"
      }
    },
    {
      "cell_type": "markdown",
      "source": [
        "`*` -> Expression <br/>\n",
        "`'hello'` -> Values <br/>\n",
        "`-87.8` -> Values <br/>\n",
        "`-` -> Expression<br/>\n",
        "`/` -> Expression<br/>\n",
        "`+` -> Expression<br/>\n",
        "`6` -> Values<br/>\n",
        "\n"
      ],
      "metadata": {
        "id": "n4wDBnH7G-U2"
      }
    },
    {
      "cell_type": "markdown",
      "source": [
        "## **Question 2.** <br/>"
      ],
      "metadata": {
        "id": "AUlhCq3wGhaI"
      }
    },
    {
      "cell_type": "markdown",
      "source": [
        "#### **Variable is something which stores some data, the data can be of any type.**\n",
        "<br/>\n",
        "\n",
        "#### **String is a type of variable. It stores textual data within double quotes or single quotes**\n"
      ],
      "metadata": {
        "id": "lweAhU5FKF5s"
      }
    },
    {
      "cell_type": "markdown",
      "source": [
        "## **Question 3.** <br/>"
      ],
      "metadata": {
        "id": "YlmMwmd-GiFX"
      }
    },
    {
      "cell_type": "markdown",
      "source": [
        "- ### **`int` -> Integer datatype e.x `1, 2, 50, 999, 99`** <br/>\n",
        "\n",
        "- ### **`bool` -> True/False** <br/>\n",
        "\n",
        "- ### **`List` -> Collection of multiple data types e.x `[1, 44.23, 'WHITE', '999', [77,'','String9']]`** <br/>\n"
      ],
      "metadata": {
        "id": "oPSXcrNRLfb4"
      }
    },
    {
      "cell_type": "markdown",
      "source": [
        "## **Question 4.** <br/>"
      ],
      "metadata": {
        "id": "F23H3CaqGiSJ"
      }
    },
    {
      "cell_type": "markdown",
      "source": [
        "#### **Expression is a combination of variables, operators and values. All Expressions yields a result value** <br/>\n",
        "**Example:  <br/>\n",
        "`a = 10`<br/>\n",
        "`b = 20`<br/>\n",
        "`c = a + (b * a)`**\n",
        "\n",
        "### `c` is the final result value of the expression `a + (b * a)`"
      ],
      "metadata": {
        "id": "rj3nCBo3NXsf"
      }
    },
    {
      "cell_type": "markdown",
      "source": [
        "## **Question 5.**"
      ],
      "metadata": {
        "id": "cMzm0tB0GidE"
      }
    },
    {
      "cell_type": "markdown",
      "source": [
        "### **Expression yields a value. While a statement is a complete line of code that performs some action. Statements can consists of multiple expressions but expressions can't be same as statements.**"
      ],
      "metadata": {
        "id": "TA5djP4jYQip"
      }
    },
    {
      "cell_type": "markdown",
      "source": [
        "## **Question 6.**"
      ],
      "metadata": {
        "id": "39QFwCtZZDA8"
      }
    },
    {
      "cell_type": "markdown",
      "source": [
        "Variable `bacon` contains `22` because later we are adding 1 into bacon but not overriding its existing value with updated one that's why after addition its still `22`"
      ],
      "metadata": {
        "id": "z7L96GSvZDA8"
      }
    },
    {
      "cell_type": "markdown",
      "source": [
        "## **Question 7.**"
      ],
      "metadata": {
        "id": "DrDYRjaNZDhd"
      }
    },
    {
      "cell_type": "markdown",
      "source": [
        "`'spam' + 'spamspam'` evaluates to `spamspamspam` <br/>\n",
        "`'spam' * 3` evaluates to `spamspamspam`"
      ],
      "metadata": {
        "id": "CbUaE0QXZDhe"
      }
    },
    {
      "cell_type": "markdown",
      "source": [
        "## **Question 8.**"
      ],
      "metadata": {
        "id": "WwayPg2GZDsl"
      }
    },
    {
      "cell_type": "markdown",
      "source": [
        "`eggs` is a valid variable name because its not any default keyword in python and it mets all condition whie creating valid variable names i.e variables must start with `alphabetic characters` or `_`. <br/>\n",
        "And `100` is invalid variable name because its a integer datatype and doesn't follow variable declaration rules."
      ],
      "metadata": {
        "id": "kMiKOrT0ZDsm"
      }
    },
    {
      "cell_type": "markdown",
      "source": [
        "## **Question 9.**"
      ],
      "metadata": {
        "id": "AjtpLDIobSNG"
      }
    },
    {
      "cell_type": "markdown",
      "source": [
        "`integer` -> `int()` \n",
        "\n",
        "`floating-point` -> `float()` \n",
        "\n",
        "`string` -> `str()` "
      ],
      "metadata": {
        "id": "FReHBxGbbSNG"
      }
    },
    {
      "cell_type": "markdown",
      "source": [
        "## **Question 10.**"
      ],
      "metadata": {
        "id": "uT_OL3HDbSrt"
      }
    },
    {
      "cell_type": "markdown",
      "source": [
        "That expression causes error because we can't concatenate/combine string datatype with integer datatype. We can only concatenate string with string datatype.\n",
        "\n",
        "For Fixing that error we can convert that integer datatype to string:-\n",
        "`'I have eaten ' + str(99) + ' burritos'`"
      ],
      "metadata": {
        "id": "O-xQxZGUbSru"
      }
    }
  ]
}